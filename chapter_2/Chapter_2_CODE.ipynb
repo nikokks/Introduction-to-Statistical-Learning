{
 "cells": [
  {
   "cell_type": "code",
   "execution_count": 3,
   "id": "6516f35e",
   "metadata": {},
   "outputs": [],
   "source": [
    "# Links to donwload required Datasets\n",
    "# https://www.statlearning.com/resources-python"
   ]
  },
  {
   "cell_type": "code",
   "execution_count": null,
   "id": "d1e15790",
   "metadata": {},
   "outputs": [],
   "source": []
  }
 ],
 "metadata": {
  "kernelspec": {
   "display_name": "Python 3",
   "language": "python",
   "name": "python3"
  },
  "language_info": {
   "codemirror_mode": {
    "name": "ipython",
    "version": 3
   },
   "file_extension": ".py",
   "mimetype": "text/x-python",
   "name": "python",
   "nbconvert_exporter": "python",
   "pygments_lexer": "ipython3",
   "version": "3.8.8"
  }
 },
 "nbformat": 4,
 "nbformat_minor": 5
}
